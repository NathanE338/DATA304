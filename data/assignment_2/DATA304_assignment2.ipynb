{
 "cells": [
  {
   "cell_type": "code",
   "execution_count": 13,
   "id": "0105d30d",
   "metadata": {},
   "outputs": [
    {
     "name": "stdout",
     "output_type": "stream",
     "text": [
      "Sometimes, life surprises us with unexpected adventures. On sunny days, people often stroll through parks, chatting joyfully. However, when it rains, umbrellas bloom like colorful mushrooms. At noon, cafés fill with the aroma of coffee! Cats often nap lazily on windowsills, yet indifferent to the world outside. Meanwhile, students, lost in thought, scribble notes quickly. Between classes, laughter echoes in hallways. Words carry weight, but silence speaks volumes. Happiness is found in small, everyday moments. Bright stars dot the night sky, whispering secrets to those who listen closely.\n"
     ]
    }
   ],
   "source": [
    "with open('paragraph.txt', 'r') as file:\n",
    "    text = file.read()\n",
    "    print(text)\n",
    "# reading the text file"
   ]
  },
  {
   "cell_type": "code",
   "execution_count": 16,
   "id": "b52a2770",
   "metadata": {},
   "outputs": [
    {
     "data": {
      "text/plain": [
       "['Sometimes, life surprises us with unexpected adventures',\n",
       " ' On sunny days, people often stroll through parks, chatting joyfully',\n",
       " ' However, when it rains, umbrellas bloom like colorful mushrooms',\n",
       " ' At noon, cafés fill with the aroma of coffee! Cats often nap lazily on windowsills, yet indifferent to the world outside',\n",
       " ' Meanwhile, students, lost in thought, scribble notes quickly',\n",
       " ' Between classes, laughter echoes in hallways',\n",
       " ' Words carry weight, but silence speaks volumes',\n",
       " ' Happiness is found in small, everyday moments',\n",
       " ' Bright stars dot the night sky, whispering secrets to those who listen closely',\n",
       " '']"
      ]
     },
     "execution_count": 16,
     "metadata": {},
     "output_type": "execute_result"
    }
   ],
   "source": [
    "text.split('.')\n",
    "#splitting the paragraph into sentences. There are 9 sentences."
   ]
  },
  {
   "cell_type": "code",
   "execution_count": 18,
   "id": "0a065163",
   "metadata": {},
   "outputs": [
    {
     "name": "stdout",
     "output_type": "stream",
     "text": [
      "['Sometimes,', 'life', 'surprises', 'us', 'with', 'unexpected', 'adventures.', 'On', 'sunny', 'days,', 'people', 'often', 'stroll', 'through', 'parks,', 'chatting', 'joyfully.', 'However,', 'when', 'it', 'rains,', 'umbrellas', 'bloom', 'like', 'colorful', 'mushrooms.', 'At', 'noon,', 'cafés', 'fill', 'with', 'the', 'aroma', 'of', 'coffee!', 'Cats', 'often', 'nap', 'lazily', 'on', 'windowsills,', 'yet', 'indifferent', 'to', 'the', 'world', 'outside.', 'Meanwhile,', 'students,', 'lost', 'in', 'thought,', 'scribble', 'notes', 'quickly.', 'Between', 'classes,', 'laughter', 'echoes', 'in', 'hallways.', 'Words', 'carry', 'weight,', 'but', 'silence', 'speaks', 'volumes.', 'Happiness', 'is', 'found', 'in', 'small,', 'everyday', 'moments.', 'Bright', 'stars', 'dot', 'the', 'night', 'sky,', 'whispering', 'secrets', 'to', 'those', 'who', 'listen', 'closely.']\n"
     ]
    }
   ],
   "source": [
    "total_words = text.split()\n",
    "print (total_words)\n",
    "# created a list of words"
   ]
  },
  {
   "cell_type": "code",
   "execution_count": 23,
   "id": "99dcee06",
   "metadata": {},
   "outputs": [
    {
     "name": "stdout",
     "output_type": "stream",
     "text": [
      "{'listen', 'stroll', 'closely.', 'night', 'chatting', 'On', 'coffee!', 'unexpected', 'carry', 'weight,', 'lost', 'laughter', 'when', 'Sometimes,', 'umbrellas', 'speaks', 'everyday', 'However,', 'Happiness', 'days,', 'people', 'in', 'sky,', 'those', 'found', 'nap', 'world', 'silence', 'echoes', 'of', 'moments.', 'aroma', 'students,', 'noon,', 'surprises', 'yet', 'classes,', 'cafés', 'Words', 'volumes.', 'through', 'to', 'is', 'but', 'windowsills,', 'Bright', 'like', 'small,', 'life', 'colorful', 'who', 'whispering', 'sunny', 'lazily', 'dot', 'mushrooms.', 'hallways.', 'notes', 'bloom', 'parks,', 'joyfully.', 'stars', 'Meanwhile,', 'Cats', 'Between', 'often', 'quickly.', 'on', 'outside.', 'At', 'it', 'us', 'indifferent', 'fill', 'scribble', 'rains,', 'thought,', 'with', 'secrets', 'the', 'adventures.'}\n"
     ]
    }
   ],
   "source": [
    "unique_words = set(total_words)\n",
    "print (unique_words)\n",
    "# created a set of words"
   ]
  },
  {
   "cell_type": "code",
   "execution_count": 29,
   "id": "08ab94d4",
   "metadata": {},
   "outputs": [
    {
     "name": "stdout",
     "output_type": "stream",
     "text": [
      "('hallways.', 'At', 'people', 'people', 'yet', 'Cats', 'At', 'the', 'students,')\n"
     ]
    }
   ],
   "source": [
    "message = total_words[60],total_words[26],total_words[10],total_words[10],total_words[41],total_words[35],total_words[26],total_words[44],total_words[48]\n",
    "print (message)"
   ]
  },
  {
   "cell_type": "code",
   "execution_count": null,
   "id": "b1b9c4e7",
   "metadata": {},
   "outputs": [],
   "source": []
  }
 ],
 "metadata": {
  "kernelspec": {
   "display_name": "Python 3 (ipykernel)",
   "language": "python",
   "name": "python3"
  },
  "language_info": {
   "codemirror_mode": {
    "name": "ipython",
    "version": 3
   },
   "file_extension": ".py",
   "mimetype": "text/x-python",
   "name": "python",
   "nbconvert_exporter": "python",
   "pygments_lexer": "ipython3",
   "version": "3.9.13"
  }
 },
 "nbformat": 4,
 "nbformat_minor": 5
}
