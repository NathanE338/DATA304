{
 "cells": [
  {
   "cell_type": "code",
   "execution_count": 13,
   "id": "067cd045",
   "metadata": {},
   "outputs": [
    {
     "name": "stdout",
     "output_type": "stream",
     "text": [
      "Sometimes, life surprises us with unexpected adventures. On sunny days, people often stroll through parks, chatting joyfully. However, when it rains, umbrellas bloom like colorful mushrooms. At noon, cafés fill with the aroma of coffee! Cats often nap lazily on windowsills, yet indifferent to the world outside. Meanwhile, students, lost in thought, scribble notes quickly. Between classes, laughter echoes in hallways. Words carry weight, but silence speaks volumes. Happiness is found in small, everyday moments. Bright stars dot the night sky, whispering secrets to those who listen closely.\n"
     ]
    }
   ],
   "source": [
    "with open('paragraph.txt', 'r') as file:\n",
    "    text = file.read()\n",
    "    print(text)\n",
    "# reading the text file"
   ]
  },
  {
   "cell_type": "code",
   "execution_count": 16,
   "id": "8c52feac",
   "metadata": {},
   "outputs": [
    {
     "data": {
      "text/plain": [
       "['Sometimes, life surprises us with unexpected adventures',\n",
       " ' On sunny days, people often stroll through parks, chatting joyfully',\n",
       " ' However, when it rains, umbrellas bloom like colorful mushrooms',\n",
       " ' At noon, cafés fill with the aroma of coffee! Cats often nap lazily on windowsills, yet indifferent to the world outside',\n",
       " ' Meanwhile, students, lost in thought, scribble notes quickly',\n",
       " ' Between classes, laughter echoes in hallways',\n",
       " ' Words carry weight, but silence speaks volumes',\n",
       " ' Happiness is found in small, everyday moments',\n",
       " ' Bright stars dot the night sky, whispering secrets to those who listen closely',\n",
       " '']"
      ]
     },
     "execution_count": 16,
     "metadata": {},
     "output_type": "execute_result"
    }
   ],
   "source": [
    "text.split('.')\n",
    "#splitting the paragraph into sentences. There are 9 sentences."
   ]
  },
  {
   "cell_type": "code",
   "execution_count": 55,
   "id": "685046d1",
   "metadata": {},
   "outputs": [
    {
     "name": "stdout",
     "output_type": "stream",
     "text": [
      "['Sometimes', 'life', 'surprises', 'us', 'with', 'unexpected', 'adventures', 'On', 'sunny', 'days', 'people', 'often', 'stroll', 'through', 'parks', 'chatting', 'joyfully', 'However', 'when', 'it', 'rains', 'umbrellas', 'bloom', 'like', 'colorful', 'mushrooms', 'At', 'noon', 'cafés', 'fill', 'with', 'the', 'aroma', 'of', 'coffee', 'Cats', 'often', 'nap', 'lazily', 'on', 'windowsills', 'yet', 'indifferent', 'to', 'the', 'world', 'outside', 'Meanwhile', 'students', 'lost', 'in', 'thought', 'scribble', 'notes', 'quickly', 'Between', 'classes', 'laughter', 'echoes', 'in', 'hallways', 'Words', 'carry', 'weight', 'but', 'silence', 'speaks', 'volumes', 'Happiness', 'is', 'found', 'in', 'small', 'everyday', 'moments', 'Bright', 'stars', 'dot', 'the', 'night', 'sky', 'whispering', 'secrets', 'to', 'those', 'who', 'listen', 'closely']\n"
     ]
    }
   ],
   "source": [
    "import re\n",
    "total_words = re.sub(r'[^\\w\\s]','', text)\n",
    "total_words =  total_words.split(' ')\n",
    "print(total_words)\n",
    "# created a list of the words."
   ]
  },
  {
   "cell_type": "code",
   "execution_count": 23,
   "id": "f236e761",
   "metadata": {},
   "outputs": [
    {
     "name": "stdout",
     "output_type": "stream",
     "text": [
      "{'listen', 'stroll', 'closely.', 'night', 'chatting', 'On', 'coffee!', 'unexpected', 'carry', 'weight,', 'lost', 'laughter', 'when', 'Sometimes,', 'umbrellas', 'speaks', 'everyday', 'However,', 'Happiness', 'days,', 'people', 'in', 'sky,', 'those', 'found', 'nap', 'world', 'silence', 'echoes', 'of', 'moments.', 'aroma', 'students,', 'noon,', 'surprises', 'yet', 'classes,', 'cafés', 'Words', 'volumes.', 'through', 'to', 'is', 'but', 'windowsills,', 'Bright', 'like', 'small,', 'life', 'colorful', 'who', 'whispering', 'sunny', 'lazily', 'dot', 'mushrooms.', 'hallways.', 'notes', 'bloom', 'parks,', 'joyfully.', 'stars', 'Meanwhile,', 'Cats', 'Between', 'often', 'quickly.', 'on', 'outside.', 'At', 'it', 'us', 'indifferent', 'fill', 'scribble', 'rains,', 'thought,', 'with', 'secrets', 'the', 'adventures.'}\n"
     ]
    }
   ],
   "source": [
    "unique_words = set(total_words)\n",
    "print (unique_words)\n",
    "# created a set of words"
   ]
  },
  {
   "cell_type": "code",
   "execution_count": 57,
   "id": "8fcf41df",
   "metadata": {},
   "outputs": [
    {
     "name": "stdout",
     "output_type": "stream",
     "text": [
      "hAppyCAts\n"
     ]
    }
   ],
   "source": [
    "message = total_words[60][0],total_words[26][0],total_words[10][0],total_words[10][0],total_words[41][0],total_words[35][0],total_words[26][0],total_words[44][0],total_words[48][0]\n",
    "mySeparator = \"\"\n",
    "x = mySeparator.join(message)\n",
    "print (x)"
   ]
  },
  {
   "cell_type": "code",
   "execution_count": null,
   "id": "d29dbdcd",
   "metadata": {},
   "outputs": [],
   "source": []
  }
 ],
 "metadata": {
  "kernelspec": {
   "display_name": "Python 3 (ipykernel)",
   "language": "python",
   "name": "python3"
  },
  "language_info": {
   "codemirror_mode": {
    "name": "ipython",
    "version": 3
   },
   "file_extension": ".py",
   "mimetype": "text/x-python",
   "name": "python",
   "nbconvert_exporter": "python",
   "pygments_lexer": "ipython3",
   "version": "3.9.13"
  }
 },
 "nbformat": 4,
 "nbformat_minor": 5
}
